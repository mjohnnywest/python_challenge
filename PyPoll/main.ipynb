{
 "cells": [
  {
   "cell_type": "code",
   "execution_count": 1,
   "id": "1f9c2de1",
   "metadata": {},
   "outputs": [],
   "source": [
    "import csv\n",
    "import os"
   ]
  },
  {
   "cell_type": "code",
   "execution_count": 54,
   "id": "388b6d22",
   "metadata": {},
   "outputs": [
    {
     "name": "stdout",
     "output_type": "stream",
     "text": [
      "The total number of votes is 369711\n",
      "Charles Casper Stockham got 85213 votes, 23.049% of total\n",
      "Diana DeGette got 272892 votes, 73.812% of total\n",
      "Raymon Anthony Doane got 11606 votes, 3.139% of total\n",
      "Winner is Diana DeGette with 272892 votes!\n"
     ]
    }
   ],
   "source": [
    "file_to_load = os.path.join(\"Resources\", \"election_data.csv\")  # Input file path\n",
    "file_to_output = os.path.join(\"analysis\", \"election_analysis.txt\")  # Output file path\n",
    "\n",
    "total_votes = 0  # Track the total number of votes cast\n",
    "\n",
    "# Define lists and dictionaries to track candidate names and vote counts\n",
    "candidates = {}\n",
    "\n",
    "\n",
    "# Open the CSV file and process it\n",
    "with open(file_to_load) as election_data:\n",
    "    reader = csv.reader(election_data)\n",
    "\n",
    "    # Skip the header row\n",
    "    header = next(reader)\n",
    "\n",
    "    # Loop through each row of the dataset and process it\n",
    "    for x in reader:\n",
    "        total_votes = total_votes + 1\n",
    "        if x[2] not in candidates:\n",
    "            candidates[x[2]] = 1\n",
    "        else:\n",
    "            candidates[x[2]] = (candidates[x[2]]+1)\n",
    "    \n",
    "    candidate_list =list(candidates.keys()) #getting the print loop right\n",
    "   \n",
    "    print(f\"The total number of votes is {total_votes}\")\n",
    "\n",
    "    can = 0 # simplest solution to have list advance in the for loop\n",
    "    for x in candidates:\n",
    "        print(f\"{candidate_list[can]} got {candidates[x]} votes, {round((candidates[x]/total_votes)*100,3)}% of total\")\n",
    "        can = can+1\n",
    "    can = 0 \n",
    "    \n",
    "    print(f\"Winner is {max(candidates, key = candidates.get)} with {max(candidates.values())} votes!\")\n"
   ]
  },
  {
   "cell_type": "code",
   "execution_count": 58,
   "id": "3a140076",
   "metadata": {},
   "outputs": [],
   "source": [
    "can = 0 #just in case last block was not run again\n",
    "with open(file_to_output, \"w\") as txt_file:\n",
    "    txt_file.write(\n",
    "        f\"The total number of votes is {total_votes}\\n\")\n",
    "    \n",
    "    for x in candidates:\n",
    "        txt_file.write(\n",
    "        f\"{candidate_list[can]} got {candidates[x]} votes, {round((candidates[x]/total_votes)*100,3)}% of total\\n\")\n",
    "        can = can+1\n",
    "    txt_file.write(\n",
    "        f\"Winner is {max(candidates, key = candidates.get)} with {max(candidates.values())} votes! \\n\")"
   ]
  },
  {
   "cell_type": "code",
   "execution_count": null,
   "id": "5217ba6b",
   "metadata": {},
   "outputs": [],
   "source": []
  }
 ],
 "metadata": {
  "kernelspec": {
   "display_name": "Python 3 (ipykernel)",
   "language": "python",
   "name": "python3"
  },
  "language_info": {
   "codemirror_mode": {
    "name": "ipython",
    "version": 3
   },
   "file_extension": ".py",
   "mimetype": "text/x-python",
   "name": "python",
   "nbconvert_exporter": "python",
   "pygments_lexer": "ipython3",
   "version": "3.9.13"
  }
 },
 "nbformat": 4,
 "nbformat_minor": 5
}
