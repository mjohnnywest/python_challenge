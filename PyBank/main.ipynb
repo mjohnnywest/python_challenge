{
 "cells": [
  {
   "cell_type": "code",
   "execution_count": 5,
   "id": "d23c03d1",
   "metadata": {},
   "outputs": [],
   "source": [
    "import csv\n",
    "import os"
   ]
  },
  {
   "cell_type": "code",
   "execution_count": 47,
   "id": "a2aadf0a",
   "metadata": {},
   "outputs": [
    {
     "name": "stdout",
     "output_type": "stream",
     "text": [
      "$22564198\n",
      "86\n",
      "['17-Feb', '382539']\n"
     ]
    }
   ],
   "source": [
    "total_months = 0\n",
    "total_net = 0\n",
    "greatest_inc = [0,0] #need to make a list so that I can call it up as a list in future functions\n",
    "greatest_dec = 0\n",
    "\n",
    "\n",
    "file_to_load = os.path.join(\"Resources\", \"budget_data.csv\")  # Input file path\n",
    "file_to_output = os.path.join(\"analysis\", \"budget_analysis.txt\")  # Output file path\n",
    "\n",
    "with open(file_to_load) as csvfile:\n",
    "    csvreader = csv.reader(csvfile, delimiter = (\",\"))\n",
    "    \n",
    "    csvheaders = next(csvreader) \n",
    "\n",
    "    for x in csvreader:\n",
    "        total_net= (total_net + int(x[1]))\n",
    "        total_months= total_months+1\n",
    "        \n",
    "    if int(x[1]) > int(greatest_inc[1]):\n",
    "        greatest_inc = x\n",
    "    elif int(x[1]) < int(greatest_dec[1]):\n",
    "        greatest_dec = x\n",
    "        \n",
    "print(f\"${total_net}\")\n",
    "print(total_months)\n",
    "print(x)\n",
    "#print(f\"Greatest increase is ${greatest_inc[1]} in {greatest_inc[0]}\")\n",
    "#print(f\"Greatest decrease is ${greatest_dec} in {greatest_dec}\")"
   ]
  },
  {
   "cell_type": "code",
   "execution_count": 3,
   "id": "c7d1d074",
   "metadata": {},
   "outputs": [],
   "source": []
  },
  {
   "cell_type": "code",
   "execution_count": null,
   "id": "7f23ff80",
   "metadata": {},
   "outputs": [],
   "source": []
  }
 ],
 "metadata": {
  "kernelspec": {
   "display_name": "Python 3 (ipykernel)",
   "language": "python",
   "name": "python3"
  },
  "language_info": {
   "codemirror_mode": {
    "name": "ipython",
    "version": 3
   },
   "file_extension": ".py",
   "mimetype": "text/x-python",
   "name": "python",
   "nbconvert_exporter": "python",
   "pygments_lexer": "ipython3",
   "version": "3.9.13"
  }
 },
 "nbformat": 4,
 "nbformat_minor": 5
}
