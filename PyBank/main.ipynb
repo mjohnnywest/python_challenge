{
 "cells": [
  {
   "cell_type": "code",
   "execution_count": 2,
   "id": "d23c03d1",
   "metadata": {},
   "outputs": [],
   "source": [
    "import csv\n",
    "import os"
   ]
  },
  {
   "cell_type": "code",
   "execution_count": 21,
   "id": "a2aadf0a",
   "metadata": {},
   "outputs": [
    {
     "name": "stdout",
     "output_type": "stream",
     "text": [
      "There were 86 months in total\n",
      "Total: $22564198\n",
      "Average Change was: $-8311.11\n",
      "Greatest increase in profits: $1862002 in 16-Aug\n",
      "Greatest decrease in profits: $-1825558 in 14-Feb\n"
     ]
    }
   ],
   "source": [
    "total_months = 0\n",
    "total_net = 0\n",
    "\n",
    "#these are to find the greatest increases and the months they happened in\n",
    "greatest_inc_mo = [0,0] #Does not need to be a list. leftover from last version\n",
    "greatest_inc = 0\n",
    "greatest_dec_mo = [0,0]\n",
    "greatest_dec = 0\n",
    "\n",
    "\n",
    "t_sum = 0 #will be used to take an average\n",
    "day = 0 #for storing previous day's value\n",
    "\n",
    "file_to_load = os.path.join(\"Resources\", \"budget_data.csv\")  # Input file path\n",
    "file_to_output = os.path.join(\"analysis\", \"budget_analysis.txt\")  # Output file path\n",
    "\n",
    "with open(file_to_load) as csvfile:\n",
    "    csvreader = csv.reader(csvfile, delimiter = (\",\"))\n",
    "    \n",
    "    csvheaders = next(csvreader) \n",
    "\n",
    "\n",
    "    for x in csvreader:\n",
    "        \n",
    "        total_net= (total_net + int(x[1])) #tracking total net change\n",
    "        total_months= total_months+1\n",
    "        \n",
    "        if total_months != 1: #have to remove initial value, net change should be 0\n",
    "            difference = (int(x[1]) - day)\n",
    "        else:\n",
    "            difference = 0\n",
    "\n",
    "        t_sum = t_sum + difference\n",
    "        if difference > greatest_inc:# this part is to find the greatest increases and decreases\n",
    "            greatest_inc_mo = x\n",
    "            greatest_inc = difference\n",
    "        elif difference < greatest_dec: \n",
    "            greatest_dec_mo = x\n",
    "            greatest_dec = difference\n",
    "\n",
    "        day = int(x[1]) #stores previous day's value\n",
    "\n",
    "print(f\"There were {total_months} months in total\")        \n",
    "print(f\"Total: ${total_net}\")\n",
    "print(f\"Average Change was: ${round(t_sum/(total_months-1),2)}\") #Removing the starting month\n",
    "print(f\"Greatest increase in profits: ${greatest_inc} in {greatest_inc_mo[0]}\")\n",
    "print(f\"Greatest decrease in profits: ${greatest_dec} in {greatest_dec_mo[0]}\")"
   ]
  },
  {
   "cell_type": "code",
   "execution_count": 23,
   "id": "c7d1d074",
   "metadata": {},
   "outputs": [],
   "source": [
    "with open(file_to_output, \"w\") as txt_file: # printing as text file\n",
    "    txt_file.write(\n",
    "        f\"Months: {total_months} \\n\"\n",
    "        f\"Total: ${total_net} \\n\"\n",
    "        f\"Average Change was: ${round((t_sum/total_months-1),2)} \\n\"\n",
    "        f\"Months:Greatest increase in profits: ${greatest_inc} in {greatest_inc_mo[0]}\\n\"\n",
    "        f\"Greatest decrease in profits: ${greatest_dec} in {greatest_dec_mo[0]}\")"
   ]
  },
  {
   "cell_type": "code",
   "execution_count": null,
   "id": "955ea197",
   "metadata": {},
   "outputs": [],
   "source": []
  }
 ],
 "metadata": {
  "kernelspec": {
   "display_name": "Python 3 (ipykernel)",
   "language": "python",
   "name": "python3"
  },
  "language_info": {
   "codemirror_mode": {
    "name": "ipython",
    "version": 3
   },
   "file_extension": ".py",
   "mimetype": "text/x-python",
   "name": "python",
   "nbconvert_exporter": "python",
   "pygments_lexer": "ipython3",
   "version": "3.9.13"
  }
 },
 "nbformat": 4,
 "nbformat_minor": 5
}
