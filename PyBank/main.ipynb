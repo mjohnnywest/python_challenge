{
 "cells": [
  {
   "cell_type": "code",
   "execution_count": 5,
   "id": "d23c03d1",
   "metadata": {},
   "outputs": [],
   "source": [
    "import csv\n",
    "import os"
   ]
  },
  {
   "cell_type": "code",
   "execution_count": 69,
   "id": "a2aadf0a",
   "metadata": {},
   "outputs": [
    {
     "name": "stdout",
     "output_type": "stream",
     "text": [
      "$22564198\n",
      "86\n",
      "4448.127906976744\n",
      "Greatest increase in profits $1862002 in 16-Aug\n",
      "Greatest decrease is $-1825558 in 14-Feb\n"
     ]
    }
   ],
   "source": [
    "total_months = 0\n",
    "total_net = 0\n",
    "\n",
    "#these are to find the greatest increases and the months they happened in\n",
    "greatest_inc_mo = [0,0] #Does not need to be a list. leftover from last version\n",
    "greatest_inc = 0\n",
    "greatest_dec_mo = [0,0]\n",
    "greatest_dec = 0\n",
    "\n",
    "\n",
    "sum = 0 #will be used to take an average\n",
    "day = 0 #for storing previous day's value\n",
    "\n",
    "file_to_load = os.path.join(\"Resources\", \"budget_data.csv\")  # Input file path\n",
    "file_to_output = os.path.join(\"analysis\", \"budget_analysis.txt\")  # Output file path\n",
    "\n",
    "with open(file_to_load) as csvfile:\n",
    "    csvreader = csv.reader(csvfile, delimiter = (\",\"))\n",
    "    \n",
    "    csvheaders = next(csvreader) \n",
    "\n",
    "    for x in csvreader:\n",
    "        \n",
    "        total_net= (total_net + int(x[1]))\n",
    "        total_months= total_months+1\n",
    "        \n",
    "        difference = (int(x[1]) - day)\n",
    "        sum = day + difference\n",
    "        if difference > greatest_inc:\n",
    "            greatest_inc_mo = x\n",
    "            greatest_inc = difference\n",
    "        elif difference < greatest_dec: \n",
    "            greatest_dec_mo = x\n",
    "            greatest_dec = difference\n",
    "\n",
    "        day = int(x[1])\n",
    "        \n",
    "print(f\"Total: ${total_net}\")\n",
    "print(total_months)\n",
    "print(sum/total_months) #Need  to figure out what goes here\n",
    "print(f\"Greatest increase in profits ${greatest_inc} in {greatest_inc_mo[0]}\")\n",
    "print(f\"Greatest decrease is ${greatest_dec} in {greatest_dec_mo[0]}\")"
   ]
  },
  {
   "cell_type": "code",
   "execution_count": 72,
   "id": "c7d1d074",
   "metadata": {},
   "outputs": [],
   "source": [
    "with open(file_to_output, \"w\") as txt_file:\n",
    "    txt_file.write(\n",
    "        f\"Months: {total_months} \\n\"\n",
    "        f\"Total: {total_net} \\n\"\n",
    "        #print(sum/total_months)\n",
    "        f\"Months:Greatest increase in profits: ${greatest_inc} in {greatest_inc_mo[0]}\\n\"\n",
    "        f\"Greatest decrease is ${greatest_dec} in {greatest_dec_mo[0]}\")"
   ]
  },
  {
   "cell_type": "code",
   "execution_count": null,
   "id": "7f23ff80",
   "metadata": {},
   "outputs": [],
   "source": []
  }
 ],
 "metadata": {
  "kernelspec": {
   "display_name": "Python 3 (ipykernel)",
   "language": "python",
   "name": "python3"
  },
  "language_info": {
   "codemirror_mode": {
    "name": "ipython",
    "version": 3
   },
   "file_extension": ".py",
   "mimetype": "text/x-python",
   "name": "python",
   "nbconvert_exporter": "python",
   "pygments_lexer": "ipython3",
   "version": "3.9.13"
  }
 },
 "nbformat": 4,
 "nbformat_minor": 5
}
